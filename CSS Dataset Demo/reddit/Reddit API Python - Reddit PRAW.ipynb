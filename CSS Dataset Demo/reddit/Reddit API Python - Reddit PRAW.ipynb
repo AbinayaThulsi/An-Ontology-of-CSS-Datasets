{
 "cells": [
  {
   "cell_type": "code",
   "execution_count": 20,
   "metadata": {},
   "outputs": [],
   "source": [
    "from pprint import pprint\n",
    "import pandas as pd\n",
    "import numpy as np\n",
    "import matplotlib.pyplot as plt\n",
    "import seaborn as sns"
   ]
  },
  {
   "cell_type": "code",
   "execution_count": 21,
   "metadata": {},
   "outputs": [],
   "source": [
    "#Reddit Set-up\n",
    "import praw\n",
    "\n",
    "user_agent = \"mick-app 1.0 by u/Adventurous-Mick\"\n",
    "reddit = praw.Reddit(\n",
    "    client_id= \"hLdss6oBnxKzc7WtofWVbg\",\n",
    "    client_secret= \"-wfl9qJAURe78Jblh4qIPghc2ctwgQ\",\n",
    "    user_agent= user_agent\n",
    ")"
   ]
  },
  {
   "cell_type": "code",
   "execution_count": 22,
   "metadata": {},
   "outputs": [
    {
     "name": "stdout",
     "output_type": "stream",
     "text": [
      "Title: Donald Trump's Israel intel leak under scrutiny after Hamas attack\n",
      "ID: 173rf6z\n",
      "author: vincevega87\n",
      "Created 1696857012.0\n",
      "Score: 6592\n",
      "Upvote ratio: 0.96\n",
      "URL: https://www.newsweek.com/donald-trump-israel-intel-russia-hamas-attack-1833094\n",
      "Comment count: 416\n",
      "\n",
      "\n",
      "Title: What Ukrainian Soldiers Really Think of Trump and the GOP - For starters: “Donald Trump is a fucking asshole.”\n",
      "ID: 173oqw2\n",
      "author: Picture-unrelated\n",
      "Created 1696848348.0\n",
      "Score: 8453\n",
      "Upvote ratio: 0.92\n",
      "URL: https://newrepublic.com/article/175997/ukrainian-soldiers-really-think-trump-gop\n",
      "Comment count: 396\n",
      "\n",
      "\n",
      "Title: RFK Jr. is expected to drop his Democratic primary bid and launch an independent or third-party run\n",
      "ID: 173p9t7\n",
      "author: Drumlin\n",
      "Created 1696850317.0\n",
      "Score: 1569\n",
      "Upvote ratio: 0.93\n",
      "URL: https://apnews.com/article/rfk-jr-presidential-campaign-independent-2024-30d940109c4956de9c81f332ec418463\n",
      "Comment count: 312\n",
      "\n",
      "\n",
      "Title: The US will likely 'go to war' in Israel with air and naval power if Syria or Iran become actively involved, retired 4-star general says\n",
      "ID: 173lalq\n",
      "author: realfalcondor\n",
      "Created 1696834174.0\n",
      "Score: 2675\n",
      "Upvote ratio: 0.94\n",
      "URL: https://www.businessinsider.com/us-likely-wage-war-israel-hamas-barry-mccaffrey-iran-syria-2023-10\n",
      "Comment count: 488\n",
      "\n",
      "\n",
      "Title: Opinion | Trump-appointed judges keep falling for anti-LGBTQ plantiffs’ fake claims\n",
      "ID: 173pl7o\n",
      "author: SicilyMalta\n",
      "Created 1696851438.0\n",
      "Score: 985\n",
      "Upvote ratio: 0.95\n",
      "URL: https://www.msnbc.com/opinion/msnbc-opinion/trump-appointed-judges-keep-falling-anti-lgbtq-plantiffs-fake-claims-rcna118463\n",
      "Comment count: 44\n",
      "\n",
      "\n",
      "Title: The greater the fear Trump feels, the more sinister his threats become\n",
      "ID: 173orrd\n",
      "author: devlinadl\n",
      "Created 1696848439.0\n",
      "Score: 1142\n",
      "Upvote ratio: 0.96\n",
      "URL: https://www.theguardian.com/commentisfree/2023/oct/09/the-greater-the-fear-trump-feels-the-more-sinister-his-threats-become\n",
      "Comment count: 125\n",
      "\n",
      "\n",
      "Title: Team Trump Is Using ‘Fyre Festival Strategies’ in NY Fraud Case\n",
      "ID: 173rk1y\n",
      "author: rollingstone\n",
      "Created 1696857386.0\n",
      "Score: 728\n",
      "Upvote ratio: 0.96\n",
      "URL: https://www.rollingstone.com/politics/politics-features/trump-team-new-york-fraud-case-media-circus-1234848510/\n",
      "Comment count: 59\n",
      "\n",
      "\n",
      "Title: White House stands up for employee getting bullied by hate influencer Chaya Raichik for his looks | \"No one should be targeted simply for being themselves. It is cruel and unacceptable.\"\n",
      "ID: 173t15m\n",
      "author: shrigay\n",
      "Created 1696861250.0\n",
      "Score: 492\n",
      "Upvote ratio: 0.96\n",
      "URL: https://www.lgbtqnation.com/2023/10/white-house-stands-up-for-employee-getting-bullied-by-hate-influencer-chaya-raichik-for-his-looks\n",
      "Comment count: 45\n",
      "\n",
      "\n",
      "Title: Putinite Republicans are disgracing America\n",
      "ID: 173is7j\n",
      "author: Afrin_Drip\n",
      "Created 1696824661.0\n",
      "Score: 2939\n",
      "Upvote ratio: 0.95\n",
      "URL: https://www.washingtonexaminer.com/opinion/columnists/putinite-republicans-are-disgracing-america\n",
      "Comment count: 102\n",
      "\n",
      "\n",
      "Title: Sen. Tommy Tuberville won't lift his military blockade amid Israel-Hamas conflict\n",
      "ID: 173a9fu\n",
      "author: paulfromatlanta\n",
      "Created 1696799947.0\n",
      "Score: 11304\n",
      "Upvote ratio: 0.94\n",
      "URL: https://www.nbcnews.com/politics/congress/sen-tommy-tuberville-wont-lift-military-blockade-israel-hamas-conflict-rcna119401\n",
      "Comment count: 1323\n",
      "\n",
      "\n"
     ]
    }
   ],
   "source": [
    "#hot new rising sumbmission in Subreddit\n",
    "headlines = set()\n",
    "for submissions in reddit.subreddit('politics').hot(limit=10):\n",
    "    print(\"Title:\",submissions.title)\n",
    "    print(\"ID:\",submissions.id)\n",
    "    print(\"author:\",submissions.author)\n",
    "    print(\"Created\",submissions.created_utc)\n",
    "    print(\"Score:\",submissions.score)\n",
    "    print(\"Upvote ratio:\",submissions.upvote_ratio)\n",
    "    print(\"URL:\",submissions.url)\n",
    "    print(\"Comment count:\",submissions.num_comments)\n",
    "    print(\"\\n\")"
   ]
  },
  {
   "cell_type": "code",
   "execution_count": 23,
   "metadata": {},
   "outputs": [
    {
     "name": "stdout",
     "output_type": "stream",
     "text": [
      "718\n"
     ]
    }
   ],
   "source": [
    "#hot new rising top\n",
    "headlines = set()\n",
    "for submissions in reddit.subreddit('politics').hot(limit=None):\n",
    "    headlines.add(submissions.title)\n",
    "print(len(headlines))"
   ]
  },
  {
   "cell_type": "code",
   "execution_count": 24,
   "metadata": {},
   "outputs": [
    {
     "data": {
      "text/html": [
       "<div>\n",
       "<style scoped>\n",
       "    .dataframe tbody tr th:only-of-type {\n",
       "        vertical-align: middle;\n",
       "    }\n",
       "\n",
       "    .dataframe tbody tr th {\n",
       "        vertical-align: top;\n",
       "    }\n",
       "\n",
       "    .dataframe thead th {\n",
       "        text-align: right;\n",
       "    }\n",
       "</style>\n",
       "<table border=\"1\" class=\"dataframe\">\n",
       "  <thead>\n",
       "    <tr style=\"text-align: right;\">\n",
       "      <th></th>\n",
       "      <th>0</th>\n",
       "    </tr>\n",
       "  </thead>\n",
       "  <tbody>\n",
       "    <tr>\n",
       "      <th>0</th>\n",
       "      <td>‘They didn’t stand up to Trump’: how the Repub...</td>\n",
       "    </tr>\n",
       "    <tr>\n",
       "      <th>1</th>\n",
       "      <td>Opinion: Matt Gaetz broke Kevin McCarthy for s...</td>\n",
       "    </tr>\n",
       "    <tr>\n",
       "      <th>2</th>\n",
       "      <td>'Squad' Dems face backlash calling for 'ceasef...</td>\n",
       "    </tr>\n",
       "    <tr>\n",
       "      <th>3</th>\n",
       "      <td>Why Rule 26 is trending amid talk of Trump as ...</td>\n",
       "    </tr>\n",
       "    <tr>\n",
       "      <th>4</th>\n",
       "      <td>‘We Put Sharp Knives in the Hands of Children’</td>\n",
       "    </tr>\n",
       "  </tbody>\n",
       "</table>\n",
       "</div>"
      ],
      "text/plain": [
       "                                                   0\n",
       "0  ‘They didn’t stand up to Trump’: how the Repub...\n",
       "1  Opinion: Matt Gaetz broke Kevin McCarthy for s...\n",
       "2  'Squad' Dems face backlash calling for 'ceasef...\n",
       "3  Why Rule 26 is trending amid talk of Trump as ...\n",
       "4     ‘We Put Sharp Knives in the Hands of Children’"
      ]
     },
     "execution_count": 24,
     "metadata": {},
     "output_type": "execute_result"
    }
   ],
   "source": [
    "df = pd.DataFrame(headlines)\n",
    "df.head()"
   ]
  },
  {
   "cell_type": "code",
   "execution_count": 25,
   "metadata": {},
   "outputs": [],
   "source": [
    "df.to_csv('headlines.csv',header=False, encoding='utf-8', index=False)"
   ]
  },
  {
   "cell_type": "code",
   "execution_count": 26,
   "metadata": {},
   "outputs": [
    {
     "name": "stderr",
     "output_type": "stream",
     "text": [
      "[nltk_data] Downloading package vader_lexicon to C:\\Users\\ABINAYA\n",
      "[nltk_data]     THULSI\\AppData\\Roaming\\nltk_data...\n"
     ]
    },
    {
     "data": {
      "text/plain": [
       "True"
      ]
     },
     "execution_count": 26,
     "metadata": {},
     "output_type": "execute_result"
    }
   ],
   "source": [
    "#Downloading dataset for sentiment analyser\n",
    "import nltk\n",
    "nltk.download('vader_lexicon')"
   ]
  },
  {
   "cell_type": "code",
   "execution_count": 32,
   "metadata": {},
   "outputs": [
    {
     "name": "stdout",
     "output_type": "stream",
     "text": [
      "[{'compound': 0.4019,\n",
      "  'headline': '‘They didn’t stand up to Trump’: how the Republican party descended into disarray',\n",
      "  'neg': 0.0,\n",
      "  'neu': 0.816,\n",
      "  'pos': 0.184},\n",
      " {'compound': -0.4215,\n",
      "  'headline': 'Opinion: Matt Gaetz broke Kevin McCarthy for sport',\n",
      "  'neg': 0.286,\n",
      "  'neu': 0.714,\n",
      "  'pos': 0.0},\n",
      " {'compound': -0.8779,\n",
      "  'headline': \"'Squad' Dems face backlash calling for 'ceasefire' after Israel attacks: 'Can’t \"\n",
      "              \"merely condemn terrorism'\",\n",
      "  'neg': 0.479,\n",
      "  'neu': 0.521,\n",
      "  'pos': 0.0}]\n"
     ]
    }
   ],
   "source": [
    "from nltk.sentiment.vader import SentimentIntensityAnalyzer as SIA\n",
    "\n",
    "sia = SIA()\n",
    "results= []\n",
    "\n",
    "for line in headlines:\n",
    "    pol_score = sia.polarity_scores(line) \n",
    "    pol_score['headline'] = line\n",
    "    results.append(pol_score)\n",
    "pprint(results[:3],width=100)"
   ]
  },
  {
   "cell_type": "code",
   "execution_count": 34,
   "metadata": {},
   "outputs": [
    {
     "data": {
      "text/html": [
       "<div>\n",
       "<style scoped>\n",
       "    .dataframe tbody tr th:only-of-type {\n",
       "        vertical-align: middle;\n",
       "    }\n",
       "\n",
       "    .dataframe tbody tr th {\n",
       "        vertical-align: top;\n",
       "    }\n",
       "\n",
       "    .dataframe thead th {\n",
       "        text-align: right;\n",
       "    }\n",
       "</style>\n",
       "<table border=\"1\" class=\"dataframe\">\n",
       "  <thead>\n",
       "    <tr style=\"text-align: right;\">\n",
       "      <th></th>\n",
       "      <th>neg</th>\n",
       "      <th>neu</th>\n",
       "      <th>pos</th>\n",
       "      <th>compound</th>\n",
       "      <th>headline</th>\n",
       "    </tr>\n",
       "  </thead>\n",
       "  <tbody>\n",
       "    <tr>\n",
       "      <th>0</th>\n",
       "      <td>0.000</td>\n",
       "      <td>0.816</td>\n",
       "      <td>0.184</td>\n",
       "      <td>0.4019</td>\n",
       "      <td>‘They didn’t stand up to Trump’: how the Repub...</td>\n",
       "    </tr>\n",
       "    <tr>\n",
       "      <th>1</th>\n",
       "      <td>0.286</td>\n",
       "      <td>0.714</td>\n",
       "      <td>0.000</td>\n",
       "      <td>-0.4215</td>\n",
       "      <td>Opinion: Matt Gaetz broke Kevin McCarthy for s...</td>\n",
       "    </tr>\n",
       "    <tr>\n",
       "      <th>2</th>\n",
       "      <td>0.479</td>\n",
       "      <td>0.521</td>\n",
       "      <td>0.000</td>\n",
       "      <td>-0.8779</td>\n",
       "      <td>'Squad' Dems face backlash calling for 'ceasef...</td>\n",
       "    </tr>\n",
       "    <tr>\n",
       "      <th>3</th>\n",
       "      <td>0.000</td>\n",
       "      <td>1.000</td>\n",
       "      <td>0.000</td>\n",
       "      <td>0.0000</td>\n",
       "      <td>Why Rule 26 is trending amid talk of Trump as ...</td>\n",
       "    </tr>\n",
       "    <tr>\n",
       "      <th>4</th>\n",
       "      <td>0.000</td>\n",
       "      <td>1.000</td>\n",
       "      <td>0.000</td>\n",
       "      <td>0.0000</td>\n",
       "      <td>‘We Put Sharp Knives in the Hands of Children’</td>\n",
       "    </tr>\n",
       "  </tbody>\n",
       "</table>\n",
       "</div>"
      ],
      "text/plain": [
       "     neg    neu    pos  compound  \\\n",
       "0  0.000  0.816  0.184    0.4019   \n",
       "1  0.286  0.714  0.000   -0.4215   \n",
       "2  0.479  0.521  0.000   -0.8779   \n",
       "3  0.000  1.000  0.000    0.0000   \n",
       "4  0.000  1.000  0.000    0.0000   \n",
       "\n",
       "                                            headline  \n",
       "0  ‘They didn’t stand up to Trump’: how the Repub...  \n",
       "1  Opinion: Matt Gaetz broke Kevin McCarthy for s...  \n",
       "2  'Squad' Dems face backlash calling for 'ceasef...  \n",
       "3  Why Rule 26 is trending amid talk of Trump as ...  \n",
       "4     ‘We Put Sharp Knives in the Hands of Children’  "
      ]
     },
     "execution_count": 34,
     "metadata": {},
     "output_type": "execute_result"
    }
   ],
   "source": [
    "df=pd.DataFrame.from_records(results)\n",
    "df.head()"
   ]
  },
  {
   "cell_type": "code",
   "execution_count": 35,
   "metadata": {},
   "outputs": [
    {
     "data": {
      "text/html": [
       "<div>\n",
       "<style scoped>\n",
       "    .dataframe tbody tr th:only-of-type {\n",
       "        vertical-align: middle;\n",
       "    }\n",
       "\n",
       "    .dataframe tbody tr th {\n",
       "        vertical-align: top;\n",
       "    }\n",
       "\n",
       "    .dataframe thead th {\n",
       "        text-align: right;\n",
       "    }\n",
       "</style>\n",
       "<table border=\"1\" class=\"dataframe\">\n",
       "  <thead>\n",
       "    <tr style=\"text-align: right;\">\n",
       "      <th></th>\n",
       "      <th>neg</th>\n",
       "      <th>neu</th>\n",
       "      <th>pos</th>\n",
       "      <th>compound</th>\n",
       "      <th>headline</th>\n",
       "      <th>label</th>\n",
       "    </tr>\n",
       "  </thead>\n",
       "  <tbody>\n",
       "    <tr>\n",
       "      <th>0</th>\n",
       "      <td>0.000</td>\n",
       "      <td>0.816</td>\n",
       "      <td>0.184</td>\n",
       "      <td>0.4019</td>\n",
       "      <td>‘They didn’t stand up to Trump’: how the Repub...</td>\n",
       "      <td>1</td>\n",
       "    </tr>\n",
       "    <tr>\n",
       "      <th>1</th>\n",
       "      <td>0.286</td>\n",
       "      <td>0.714</td>\n",
       "      <td>0.000</td>\n",
       "      <td>-0.4215</td>\n",
       "      <td>Opinion: Matt Gaetz broke Kevin McCarthy for s...</td>\n",
       "      <td>-1</td>\n",
       "    </tr>\n",
       "    <tr>\n",
       "      <th>2</th>\n",
       "      <td>0.479</td>\n",
       "      <td>0.521</td>\n",
       "      <td>0.000</td>\n",
       "      <td>-0.8779</td>\n",
       "      <td>'Squad' Dems face backlash calling for 'ceasef...</td>\n",
       "      <td>-1</td>\n",
       "    </tr>\n",
       "    <tr>\n",
       "      <th>3</th>\n",
       "      <td>0.000</td>\n",
       "      <td>1.000</td>\n",
       "      <td>0.000</td>\n",
       "      <td>0.0000</td>\n",
       "      <td>Why Rule 26 is trending amid talk of Trump as ...</td>\n",
       "      <td>0</td>\n",
       "    </tr>\n",
       "    <tr>\n",
       "      <th>4</th>\n",
       "      <td>0.000</td>\n",
       "      <td>1.000</td>\n",
       "      <td>0.000</td>\n",
       "      <td>0.0000</td>\n",
       "      <td>‘We Put Sharp Knives in the Hands of Children’</td>\n",
       "      <td>0</td>\n",
       "    </tr>\n",
       "  </tbody>\n",
       "</table>\n",
       "</div>"
      ],
      "text/plain": [
       "     neg    neu    pos  compound  \\\n",
       "0  0.000  0.816  0.184    0.4019   \n",
       "1  0.286  0.714  0.000   -0.4215   \n",
       "2  0.479  0.521  0.000   -0.8779   \n",
       "3  0.000  1.000  0.000    0.0000   \n",
       "4  0.000  1.000  0.000    0.0000   \n",
       "\n",
       "                                            headline  label  \n",
       "0  ‘They didn’t stand up to Trump’: how the Repub...      1  \n",
       "1  Opinion: Matt Gaetz broke Kevin McCarthy for s...     -1  \n",
       "2  'Squad' Dems face backlash calling for 'ceasef...     -1  \n",
       "3  Why Rule 26 is trending amid talk of Trump as ...      0  \n",
       "4     ‘We Put Sharp Knives in the Hands of Children’      0  "
      ]
     },
     "execution_count": 35,
     "metadata": {},
     "output_type": "execute_result"
    }
   ],
   "source": [
    "df['label'] = 0\n",
    "df.loc[df['compound'] > 0.2, 'label'] = 1\n",
    "df.loc[df['compound'] < -0.2, 'label'] = -1\n",
    "df.head()"
   ]
  },
  {
   "cell_type": "code",
   "execution_count": 36,
   "metadata": {},
   "outputs": [],
   "source": [
    "df2 = df[['headline','label']]"
   ]
  },
  {
   "cell_type": "code",
   "execution_count": 37,
   "metadata": {},
   "outputs": [],
   "source": [
    "df2.to_csv('reddit_headlines_label.csv',header=False, encoding='utf-8', index=False)"
   ]
  },
  {
   "cell_type": "code",
   "execution_count": 40,
   "metadata": {},
   "outputs": [
    {
     "data": {
      "text/plain": [
       " 0    302\n",
       "-1    292\n",
       " 1    124\n",
       "Name: label, dtype: int64"
      ]
     },
     "execution_count": 40,
     "metadata": {},
     "output_type": "execute_result"
    }
   ],
   "source": [
    "df.label.value_counts()"
   ]
  },
  {
   "cell_type": "code",
   "execution_count": 38,
   "metadata": {},
   "outputs": [
    {
     "data": {
      "text/plain": [
       " 0    42.061281\n",
       "-1    40.668524\n",
       " 1    17.270195\n",
       "Name: label, dtype: float64"
      ]
     },
     "execution_count": 38,
     "metadata": {},
     "output_type": "execute_result"
    }
   ],
   "source": [
    "df.label.value_counts(normalize=True) * 100"
   ]
  },
  {
   "cell_type": "code",
   "execution_count": 39,
   "metadata": {},
   "outputs": [
    {
     "name": "stdout",
     "output_type": "stream",
     "text": [
      "Positive headlines:\n",
      "\n",
      "['‘They didn’t stand up to Trump’: how the Republican party descended into disarray',\n",
      " 'The Supreme Court Eyes Its Next Big Power Grab: Two cases this term might cement a new order of judicial supremacy—and end the idea of a government by \"we, the people.\"',\n",
      " 'Trump in new donor push claims a Biden win means ‘this country will die’',\n",
      " \"Supreme Court is increasingly putting Christians' First Amendment rights ahead of others' dignity and rights to equal protection\",\n",
      " 'US public support declines for arming Ukraine, Reuters/Ipsos poll shows']\n",
      "\n",
      "Negative headlines:\n",
      "\n",
      "['Opinion: Matt Gaetz broke Kevin McCarthy for sport',\n",
      " \"'Squad' Dems face backlash calling for 'ceasefire' after Israel attacks: 'Can’t merely condemn terrorism'\",\n",
      " 'Amazon’s Alexa has been claiming the 2020 election was stolen',\n",
      " \"The Republican field is blaming Joe Biden for dealing with Iran after Hamas' attack on Israel\",\n",
      " 'California Becomes First State to Ban Four Harmful Chemicals in Food']\n"
     ]
    }
   ],
   "source": [
    "print(\"Positive headlines:\\n\")\n",
    "pprint(list(df[df['label'] == 1].headline)[:5], width=200)\n",
    "\n",
    "print(\"\\nNegative headlines:\\n\")\n",
    "pprint(list(df[df['label'] == -1].headline)[:5], width=200)"
   ]
  },
  {
   "cell_type": "code",
   "execution_count": 6,
   "metadata": {},
   "outputs": [
    {
     "name": "stdout",
     "output_type": "stream",
     "text": [
      "Remaining requests: 95\n",
      "Rate limit reset time: 37\n"
     ]
    }
   ],
   "source": [
    "import requests\n",
    "\n",
    "user_agent = \"mick-app 1.0 by u/Adventurous-Mick\"\n",
    "client_id= \"hLdss6oBnxKzc7WtofWVbg\",\n",
    "client_secret= \"-wfl9qJAURe78Jblh4qIPghc2ctwgQ\",\n",
    "    \n",
    "# Make a simple Reddit API request (in this case, requesting the Reddit front page)\n",
    "url = 'https://www.reddit.com/.json'\n",
    "\n",
    "# Set headers including your user agent\n",
    "headers = {\n",
    "    'User-Agent': user_agent,\n",
    "}\n",
    "\n",
    "# Use client credentials to authenticate (if needed)\n",
    "auth = requests.auth.HTTPBasicAuth(client_id, client_secret)\n",
    "\n",
    "# Make the API request\n",
    "response = requests.get(url, headers=headers, auth=auth)\n",
    "\n",
    "# Check the response headers for rate limit information\n",
    "remaining_requests = response.headers.get('x-ratelimit-remaining')\n",
    "reset_time = response.headers.get('x-ratelimit-reset')\n",
    "\n",
    "print(f'Remaining requests: {remaining_requests}')\n",
    "print(f'Rate limit reset time: {reset_time}')"
   ]
  },
  {
   "cell_type": "code",
   "execution_count": null,
   "metadata": {},
   "outputs": [],
   "source": [
    "https://www.youtube.com/watch?v=8VZhog5C3bU&ab_channel=PatrickLoeber"
   ]
  }
 ],
 "metadata": {
  "kernelspec": {
   "display_name": "Python 3",
   "language": "python",
   "name": "python3"
  },
  "language_info": {
   "codemirror_mode": {
    "name": "ipython",
    "version": 3
   },
   "file_extension": ".py",
   "mimetype": "text/x-python",
   "name": "python",
   "nbconvert_exporter": "python",
   "pygments_lexer": "ipython3",
   "version": "3.7.4"
  }
 },
 "nbformat": 4,
 "nbformat_minor": 4
}
